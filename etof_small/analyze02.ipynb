{
 "cells": [
  {
   "cell_type": "code",
   "execution_count": 1,
   "metadata": {
    "collapsed": true
   },
   "outputs": [],
   "source": [
    "import pandas as pd\n"
   ]
  },
  {
   "cell_type": "code",
   "execution_count": 127,
   "metadata": {
    "collapsed": false
   },
   "outputs": [
    {
     "name": "stdout",
     "output_type": "stream",
     "text": [
      "   ion_time_of_flight  ion_px_mm   ion_py_mm   ion_pz_mm    bx   by   bz  el3  \\\n",
      "0            0.029626   29.862833    0.871108    5.037811 -0.9 -0.9 -0.9    0   \n",
      "1            0.029626   29.862833    0.871108    5.037811 -0.9 -0.9 -0.9    0   \n",
      "2            0.028761   32.230149    3.158218    5.045931 -0.9 -0.9 -0.9    0   \n",
      "3            0.028761   32.230149    3.158218    5.045931 -0.9 -0.9 -0.9    0   \n",
      "4            0.027150   25.868057   -3.921543    5.031797 -0.9 -0.9 -0.9    0   \n",
      "\n",
      "   el4  el5  ion_number  ion_color  \n",
      "0    0    0           1          0  \n",
      "1    0    0           1          0  \n",
      "2    0    0           2          1  \n",
      "3    0    0           2          1  \n",
      "4    0    0           3          3  \n",
      "ion_num1: 1034 ion_num2: 516 ion_num3: 10744\n"
     ]
    }
   ],
   "source": [
    "folder1=\"con_campo_entero/1\"\n",
    "file1=folder1+\"/\"+\"test05.csv\"\n",
    "bd1=pd.read_csv(file1,sep=\"\\t\")\n",
    "print bd1.head(5)\n",
    "#bd1[bd1.ion_px_mm>95]\n",
    "bd=bd1[bd1.iloc[:,1]>53]\n",
    "print \"ion_num1:\",bd[bd.ion_number==1].shape[0],\"ion_num2:\",bd[bd.ion_number==2].shape[0],\"ion_num3:\",bd[bd.ion_number==3].shape[0]\n"
   ]
  },
  {
   "cell_type": "code",
   "execution_count": 128,
   "metadata": {
    "collapsed": false
   },
   "outputs": [
    {
     "name": "stdout",
     "output_type": "stream",
     "text": [
      "(12294, 12)\n"
     ]
    },
    {
     "data": {
      "text/plain": [
       "(516, 12)"
      ]
     },
     "execution_count": 128,
     "metadata": {},
     "output_type": "execute_result"
    }
   ],
   "source": [
    "#bd2=bd[(bd.ion_number==3) ]\n",
    "bd2=bd[(bd.iloc[:,1]>53) ]\n",
    "bd2.index=range(bd2.shape[0])\n",
    "print bd2.shape\n",
    "bd2.head()\n",
    "bd2_2=bd2[bd2.ion_color==1]\n",
    "bd2_2.shape"
   ]
  },
  {
   "cell_type": "code",
   "execution_count": 119,
   "metadata": {
    "collapsed": false
   },
   "outputs": [
    {
     "data": {
      "text/html": [
       "<div>\n",
       "<table border=\"1\" class=\"dataframe\">\n",
       "  <thead>\n",
       "    <tr style=\"text-align: right;\">\n",
       "      <th></th>\n",
       "      <th>ion_time_of_flight</th>\n",
       "      <th>ion_px_mm</th>\n",
       "      <th>ion_py_mm</th>\n",
       "      <th>ion_pz_mm</th>\n",
       "      <th>bx</th>\n",
       "      <th>by</th>\n",
       "      <th>bz</th>\n",
       "      <th>el3</th>\n",
       "      <th>el4</th>\n",
       "      <th>el5</th>\n",
       "      <th>ion_number</th>\n",
       "      <th>ion_color</th>\n",
       "    </tr>\n",
       "  </thead>\n",
       "  <tbody>\n",
       "    <tr>\n",
       "      <th>0</th>\n",
       "      <td>0.067711</td>\n",
       "      <td>93.046969</td>\n",
       "      <td>-3.577626</td>\n",
       "      <td>9.449867</td>\n",
       "      <td>-0.9</td>\n",
       "      <td>-0.6</td>\n",
       "      <td>-0.3</td>\n",
       "      <td>2</td>\n",
       "      <td>0</td>\n",
       "      <td>4</td>\n",
       "      <td>3</td>\n",
       "      <td>3</td>\n",
       "    </tr>\n",
       "    <tr>\n",
       "      <th>1</th>\n",
       "      <td>0.067711</td>\n",
       "      <td>93.046969</td>\n",
       "      <td>-3.577626</td>\n",
       "      <td>9.449867</td>\n",
       "      <td>-0.9</td>\n",
       "      <td>-0.6</td>\n",
       "      <td>-0.3</td>\n",
       "      <td>2</td>\n",
       "      <td>0</td>\n",
       "      <td>4</td>\n",
       "      <td>3</td>\n",
       "      <td>3</td>\n",
       "    </tr>\n",
       "    <tr>\n",
       "      <th>2</th>\n",
       "      <td>0.066424</td>\n",
       "      <td>93.153076</td>\n",
       "      <td>-3.427715</td>\n",
       "      <td>8.151597</td>\n",
       "      <td>-0.9</td>\n",
       "      <td>-0.6</td>\n",
       "      <td>-0.3</td>\n",
       "      <td>2</td>\n",
       "      <td>0</td>\n",
       "      <td>5</td>\n",
       "      <td>3</td>\n",
       "      <td>3</td>\n",
       "    </tr>\n",
       "    <tr>\n",
       "      <th>3</th>\n",
       "      <td>0.066424</td>\n",
       "      <td>93.153076</td>\n",
       "      <td>-3.427715</td>\n",
       "      <td>8.151597</td>\n",
       "      <td>-0.9</td>\n",
       "      <td>-0.6</td>\n",
       "      <td>-0.3</td>\n",
       "      <td>2</td>\n",
       "      <td>0</td>\n",
       "      <td>5</td>\n",
       "      <td>3</td>\n",
       "      <td>3</td>\n",
       "    </tr>\n",
       "    <tr>\n",
       "      <th>4</th>\n",
       "      <td>0.076147</td>\n",
       "      <td>93.027987</td>\n",
       "      <td>-4.349400</td>\n",
       "      <td>-0.020656</td>\n",
       "      <td>-0.9</td>\n",
       "      <td>-0.6</td>\n",
       "      <td>-0.3</td>\n",
       "      <td>3</td>\n",
       "      <td>0</td>\n",
       "      <td>0</td>\n",
       "      <td>3</td>\n",
       "      <td>3</td>\n",
       "    </tr>\n",
       "    <tr>\n",
       "      <th>5</th>\n",
       "      <td>0.076147</td>\n",
       "      <td>93.027987</td>\n",
       "      <td>-4.349400</td>\n",
       "      <td>-0.020656</td>\n",
       "      <td>-0.9</td>\n",
       "      <td>-0.6</td>\n",
       "      <td>-0.3</td>\n",
       "      <td>3</td>\n",
       "      <td>0</td>\n",
       "      <td>0</td>\n",
       "      <td>3</td>\n",
       "      <td>3</td>\n",
       "    </tr>\n",
       "    <tr>\n",
       "      <th>6</th>\n",
       "      <td>0.073368</td>\n",
       "      <td>93.102340</td>\n",
       "      <td>-3.977344</td>\n",
       "      <td>-0.732183</td>\n",
       "      <td>-0.9</td>\n",
       "      <td>-0.6</td>\n",
       "      <td>-0.3</td>\n",
       "      <td>3</td>\n",
       "      <td>0</td>\n",
       "      <td>1</td>\n",
       "      <td>3</td>\n",
       "      <td>3</td>\n",
       "    </tr>\n",
       "    <tr>\n",
       "      <th>7</th>\n",
       "      <td>0.073368</td>\n",
       "      <td>93.102340</td>\n",
       "      <td>-3.977344</td>\n",
       "      <td>-0.732183</td>\n",
       "      <td>-0.9</td>\n",
       "      <td>-0.6</td>\n",
       "      <td>-0.3</td>\n",
       "      <td>3</td>\n",
       "      <td>0</td>\n",
       "      <td>1</td>\n",
       "      <td>3</td>\n",
       "      <td>3</td>\n",
       "    </tr>\n",
       "    <tr>\n",
       "      <th>8</th>\n",
       "      <td>0.071083</td>\n",
       "      <td>93.033970</td>\n",
       "      <td>-3.639470</td>\n",
       "      <td>-1.339274</td>\n",
       "      <td>-0.9</td>\n",
       "      <td>-0.6</td>\n",
       "      <td>-0.3</td>\n",
       "      <td>3</td>\n",
       "      <td>0</td>\n",
       "      <td>2</td>\n",
       "      <td>3</td>\n",
       "      <td>3</td>\n",
       "    </tr>\n",
       "    <tr>\n",
       "      <th>9</th>\n",
       "      <td>0.071083</td>\n",
       "      <td>93.033970</td>\n",
       "      <td>-3.639470</td>\n",
       "      <td>-1.339274</td>\n",
       "      <td>-0.9</td>\n",
       "      <td>-0.6</td>\n",
       "      <td>-0.3</td>\n",
       "      <td>3</td>\n",
       "      <td>0</td>\n",
       "      <td>2</td>\n",
       "      <td>3</td>\n",
       "      <td>3</td>\n",
       "    </tr>\n",
       "  </tbody>\n",
       "</table>\n",
       "</div>"
      ],
      "text/plain": [
       "   ion_time_of_flight  ion_px_mm   ion_py_mm   ion_pz_mm    bx   by   bz  el3  \\\n",
       "0            0.067711   93.046969   -3.577626    9.449867 -0.9 -0.6 -0.3    2   \n",
       "1            0.067711   93.046969   -3.577626    9.449867 -0.9 -0.6 -0.3    2   \n",
       "2            0.066424   93.153076   -3.427715    8.151597 -0.9 -0.6 -0.3    2   \n",
       "3            0.066424   93.153076   -3.427715    8.151597 -0.9 -0.6 -0.3    2   \n",
       "4            0.076147   93.027987   -4.349400   -0.020656 -0.9 -0.6 -0.3    3   \n",
       "5            0.076147   93.027987   -4.349400   -0.020656 -0.9 -0.6 -0.3    3   \n",
       "6            0.073368   93.102340   -3.977344   -0.732183 -0.9 -0.6 -0.3    3   \n",
       "7            0.073368   93.102340   -3.977344   -0.732183 -0.9 -0.6 -0.3    3   \n",
       "8            0.071083   93.033970   -3.639470   -1.339274 -0.9 -0.6 -0.3    3   \n",
       "9            0.071083   93.033970   -3.639470   -1.339274 -0.9 -0.6 -0.3    3   \n",
       "\n",
       "   el4  el5  ion_number  ion_color  \n",
       "0    0    4           3          3  \n",
       "1    0    4           3          3  \n",
       "2    0    5           3          3  \n",
       "3    0    5           3          3  \n",
       "4    0    0           3          3  \n",
       "5    0    0           3          3  \n",
       "6    0    1           3          3  \n",
       "7    0    1           3          3  \n",
       "8    0    2           3          3  \n",
       "9    0    2           3          3  "
      ]
     },
     "execution_count": 119,
     "metadata": {},
     "output_type": "execute_result"
    }
   ],
   "source": [
    "bd2.head(10)"
   ]
  },
  {
   "cell_type": "code",
   "execution_count": 120,
   "metadata": {
    "collapsed": false
   },
   "outputs": [
    {
     "name": "stdout",
     "output_type": "stream",
     "text": [
      "(12294, 12)\n",
      "(516, 12)\n"
     ]
    }
   ],
   "source": [
    "print bd2.shape\n",
    "print bd2_2.shape"
   ]
  },
  {
   "cell_type": "code",
   "execution_count": 121,
   "metadata": {
    "collapsed": false
   },
   "outputs": [
    {
     "data": {
      "text/html": [
       "<div>\n",
       "<table border=\"1\" class=\"dataframe\">\n",
       "  <thead>\n",
       "    <tr style=\"text-align: right;\">\n",
       "      <th></th>\n",
       "      <th>ion_time_of_flight</th>\n",
       "      <th>ion_px_mm</th>\n",
       "      <th>ion_py_mm</th>\n",
       "      <th>ion_pz_mm</th>\n",
       "      <th>bx</th>\n",
       "      <th>by</th>\n",
       "      <th>bz</th>\n",
       "      <th>el3</th>\n",
       "      <th>el4</th>\n",
       "      <th>el5</th>\n",
       "      <th>ion_number</th>\n",
       "      <th>ion_color</th>\n",
       "    </tr>\n",
       "  </thead>\n",
       "  <tbody>\n",
       "  </tbody>\n",
       "</table>\n",
       "</div>"
      ],
      "text/plain": [
       "Empty DataFrame\n",
       "Columns: [ion_time_of_flight, ion_px_mm , ion_py_mm , ion_pz_mm , bx, by, bz, el3, el4, el5, ion_number, ion_color]\n",
       "Index: []"
      ]
     },
     "execution_count": 121,
     "metadata": {},
     "output_type": "execute_result"
    }
   ],
   "source": [
    "bd2[bd2.iloc[:,1]<80]"
   ]
  },
  {
   "cell_type": "code",
   "execution_count": 129,
   "metadata": {
    "collapsed": false
   },
   "outputs": [],
   "source": [
    "bd2.iloc[bd2[abs(bd2.bx)<0.01].index.values,4]=0\n",
    "bd2.iloc[bd2[abs(bd2.by)<0.01].index.values,5]=0\n",
    "bd2.iloc[bd2[abs(bd2.bz)<0.01].index.values,6]=0\n"
   ]
  },
  {
   "cell_type": "code",
   "execution_count": 135,
   "metadata": {
    "collapsed": false
   },
   "outputs": [
    {
     "data": {
      "text/html": [
       "<div>\n",
       "<table border=\"1\" class=\"dataframe\">\n",
       "  <thead>\n",
       "    <tr style=\"text-align: right;\">\n",
       "      <th></th>\n",
       "      <th>bx</th>\n",
       "      <th>by</th>\n",
       "      <th>bz</th>\n",
       "      <th>el3</th>\n",
       "      <th>el4</th>\n",
       "      <th>el5</th>\n",
       "    </tr>\n",
       "  </thead>\n",
       "  <tbody>\n",
       "  </tbody>\n",
       "</table>\n",
       "</div>"
      ],
      "text/plain": [
       "Empty DataFrame\n",
       "Columns: [bx, by, bz, el3, el4, el5]\n",
       "Index: []"
      ]
     },
     "execution_count": 135,
     "metadata": {},
     "output_type": "execute_result"
    }
   ],
   "source": [
    "gbx,gby,gbz,gel3,gel4,gel5=[],[],[],[],[],[]\n",
    "i=0\n",
    "for bx,by,bz,el3,el4,el5 in zip(bd2_2.bx,bd2_2.by,bd2_2.bz,bd2_2.el3,bd2_2.el4,bd2_2.el5):\n",
    "    #print bx,by,bz,el3,el4,el5\n",
    "    b=bd2[(bd2.el3==el3)&(bd2.el4==el4)&(bd2.el5==el5)&(bd2.bx==bx)&(bd2.by==by)]\n",
    "    #if i<10:\n",
    "    #    print \"---\"\n",
    "    #    print b.iloc[:,[1,4,5,6,7,8,9,10,11]]\n",
    "    #    i=i+1\n",
    "    #else:\n",
    "    #    break\n",
    "        \n",
    "    if len(list(set(b.ion_color.values)))>2:\n",
    "        #print len(list(set(b.ion_number.values)))\n",
    "        #print bx,by,bz,el3,el4,el5\n",
    "        #print set(b.ion_color.values)\n",
    "        if abs(by)<0.001:\n",
    "            by=0\n",
    "        if abs(by)<0.001:\n",
    "            by=0\n",
    "        if abs(bz)<0.001:\n",
    "            bz=0\n",
    "        gbx.append(bx)\n",
    "        gby.append(by)\n",
    "        gbz.append(bz)\n",
    "        gel3.append(el3)\n",
    "        gel4.append(el4)\n",
    "        gel5.append(el5)\n",
    "        \n",
    "datas={\"bx\":gbx,\"by\":gby,\"bz\":gbz,\"el3\":gel3,\"el4\":gel4,\"el5\":gel5}\n",
    "newbd=pd.DataFrame(datas)\n",
    "newbd=newbd.drop_duplicates()\n",
    "newbd.index=range(newbd.shape[0])\n",
    "newbd\n",
    "        \n",
    "    "
   ]
  }
 ],
 "metadata": {
  "kernelspec": {
   "display_name": "Python [Root]",
   "language": "python",
   "name": "Python [Root]"
  },
  "language_info": {
   "codemirror_mode": {
    "name": "ipython",
    "version": 2
   },
   "file_extension": ".py",
   "mimetype": "text/x-python",
   "name": "python",
   "nbconvert_exporter": "python",
   "pygments_lexer": "ipython2",
   "version": "2.7.12"
  }
 },
 "nbformat": 4,
 "nbformat_minor": 0
}
